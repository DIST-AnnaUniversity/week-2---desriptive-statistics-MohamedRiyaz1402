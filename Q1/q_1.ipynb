{
  "nbformat": 4,
  "nbformat_minor": 0,
  "metadata": {
    "colab": {
      "provenance": [],
      "collapsed_sections": []
    },
    "kernelspec": {
      "name": "python3",
      "display_name": "Python 3"
    },
    "language_info": {
      "name": "python"
    }
  },
  "cells": [
    {
      "cell_type": "code",
      "execution_count": null,
      "metadata": {
        "id": "FAP4jCFANaKH"
      },
      "outputs": [],
      "source": [
        "Went through the given topics in Descriptive statistics from https://courses.lumenlearning.com/introstats1/"
      ]
    }
  ]
}