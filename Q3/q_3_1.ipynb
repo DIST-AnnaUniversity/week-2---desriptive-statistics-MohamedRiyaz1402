{
  "nbformat": 4,
  "nbformat_minor": 0,
  "metadata": {
    "colab": {
      "provenance": []
    },
    "kernelspec": {
      "name": "python3",
      "display_name": "Python 3"
    },
    "language_info": {
      "name": "python"
    }
  },
  "cells": [
    {
      "cell_type": "code",
      "execution_count": 12,
      "metadata": {
        "colab": {
          "base_uri": "https://localhost:8080/"
        },
        "id": "iA_qUYg0ek1c",
        "outputId": "c8cceb40-b55b-4efe-aec8-1e58e61a078c"
      },
      "outputs": [
        {
          "output_type": "stream",
          "name": "stdout",
          "text": [
            "     COAL\n",
            "0    3401\n",
            "1    8485\n",
            "2    9277\n",
            "3    8856\n",
            "4    8387\n",
            "5    8802\n",
            "6    9051\n",
            "7    9708\n",
            "8    9279\n",
            "9    9368\n",
            "10  13111\n",
            "11  14925\n",
            "12  22482\n",
            "13  24222\n",
            "14  25612\n",
            "15  23096\n",
            "16  23172\n",
            "17  25003\n",
            "18  20266\n",
            "19      0\n",
            "\n",
            "Measure of Central Tendancy\n",
            "***************************\n",
            "Mean :  COAL    13825.15\n",
            "dtype: float64\n",
            "Median :  COAL    9538.0\n",
            "dtype: float64\n",
            "Mode :       COAL\n",
            "0       0\n",
            "1    3401\n",
            "2    8387\n",
            "3    8485\n",
            "4    8802\n",
            "5    8856\n",
            "6    9051\n",
            "7    9277\n",
            "8    9279\n",
            "9    9368\n",
            "10   9708\n",
            "11  13111\n",
            "12  14925\n",
            "13  20266\n",
            "14  22482\n",
            "15  23096\n",
            "16  23172\n",
            "17  24222\n",
            "18  25003\n",
            "19  25612\n"
          ]
        }
      ],
      "source": [
        "import pandas as pd\n",
        "import io\n",
        "df = pd.read_csv('Traffic.csv')\n",
        "\n",
        "final = pd.DataFrame(df.COAL)\n",
        "print(final)\n",
        "\n",
        "print(\"\\nMeasure of Central Tendancy\\n***************************\")\n",
        "print(\"Mean : \",final.mean())\n",
        "print(\"Median : \",final.median())\n",
        "print(\"Mode : \",final.mode())\n"
      ]
    }
  ]
}