{
  "nbformat": 4,
  "nbformat_minor": 0,
  "metadata": {
    "colab": {
      "provenance": []
    },
    "kernelspec": {
      "name": "python3",
      "display_name": "Python 3"
    },
    "language_info": {
      "name": "python"
    }
  },
  "cells": [
    {
      "cell_type": "code",
      "execution_count": 1,
      "metadata": {
        "colab": {
          "base_uri": "https://localhost:8080/",
          "height": 701
        },
        "id": "bs8nyWSswxPt",
        "outputId": "d4c5384d-377a-4012-f6cf-629895f88e92"
      },
      "outputs": [
        {
          "output_type": "stream",
          "name": "stdout",
          "text": [
            "     COAL\n",
            "0    3401\n",
            "1    8485\n",
            "2    9277\n",
            "3    8856\n",
            "4    8387\n",
            "5    8802\n",
            "6    9051\n",
            "7    9708\n",
            "8    9279\n",
            "9    9368\n",
            "10  13111\n",
            "11  14925\n",
            "12  22482\n",
            "13  24222\n",
            "14  25612\n",
            "15  23096\n",
            "16  23172\n",
            "17  25003\n",
            "18  20266\n",
            "19      0\n"
          ]
        },
        {
          "output_type": "execute_result",
          "data": {
            "text/plain": [
              "<matplotlib.axes._subplots.AxesSubplot at 0x7f3a120fc050>"
            ]
          },
          "metadata": {},
          "execution_count": 1
        },
        {
          "output_type": "display_data",
          "data": {
            "text/plain": [
              "<Figure size 360x360 with 1 Axes>"
            ],
            "image/png": "[encoded data removed]"
          },
          "metadata": {
            "needs_background": "light"
          }
        }
      ],
      "source": [
        "import pandas as pd\n",
        "import io\n",
        "df = pd.read_csv('Traffic.csv')\n",
        "\n",
        "final = pd.DataFrame(df.COAL)\n",
        "print(final)\n",
        "final.boxplot(figsize=(5,5),fontsize='8',grid=False)\n",
        "\n"
      ]
    }
  ]
}